{
 "cells": [
  {
   "cell_type": "markdown",
   "metadata": {},
   "source": [
    "# Bitcoin_plotting"
   ]
  },
  {
   "cell_type": "code",
   "execution_count": 27,
   "metadata": {},
   "outputs": [],
   "source": [
    "import numpy as np\n",
    "import pandas as pd\n",
    "import matplotlib.pyplot as plt"
   ]
  },
  {
   "cell_type": "code",
   "execution_count": 43,
   "metadata": {},
   "outputs": [
    {
     "name": "stdout",
     "output_type": "stream",
     "text": [
      "count of Null values fom data: \n",
      " Date     365\n",
      "Open     365\n",
      "High     365\n",
      "Low      365\n",
      "Close    365\n",
      "dtype: int64\n",
      "\n",
      "Top 5 rows of the data: \n",
      "          Date     Open    High      Low    Close\n",
      "0  01/01/2017   991.50  1000.0   969.01   969.01\n",
      "1  02/01/2017  1014.00  1400.0   971.51  1060.00\n",
      "2  03/01/2017  1006.59  1069.5  1006.59  1069.49\n",
      "3  04/01/2017  1070.00  1240.0  1070.00  1210.00\n",
      "4  05/01/2017  1210.00  1212.0   955.08  1068.00\n",
      "\n",
      "Last 5 rows of the data: \n",
      "     Date  Open  High  Low  Close\n",
      "450  NaN   NaN   NaN  NaN    NaN\n",
      "451  NaN   NaN   NaN  NaN    NaN\n",
      "452  NaN   NaN   NaN  NaN    NaN\n",
      "453  NaN   NaN   NaN  NaN    NaN\n",
      "454  NaN   NaN   NaN  NaN    NaN\n",
      "\n",
      "No. of Rows and Columns of the data: \n",
      " (455, 5)\n",
      "\n",
      "After deleting the null values from the data \n",
      "\n",
      "count of Null values fom data: \n",
      " Date     0\n",
      "Open     0\n",
      "High     0\n",
      "Low      0\n",
      "Close    0\n",
      "dtype: int64\n",
      "Top 5 rows of the data: \n",
      "          Date     Open    High      Low    Close\n",
      "0  01/01/2017   991.50  1000.0   969.01   969.01\n",
      "1  02/01/2017  1014.00  1400.0   971.51  1060.00\n",
      "2  03/01/2017  1006.59  1069.5  1006.59  1069.49\n",
      "3  04/01/2017  1070.00  1240.0  1070.00  1210.00\n",
      "4  05/01/2017  1210.00  1212.0   955.08  1068.00\n",
      "\n",
      "Last 5 rows of the data: \n",
      "           Date     Open     High      Low    Close\n",
      "85  27/03/2017   999.99  1064.99   965.05  1064.99\n",
      "86  28/03/2017  1064.99  1119.99  1045.01  1108.00\n",
      "87  29/03/2017  1108.00  1108.00  1040.00  1067.00\n",
      "88  30/03/2017  1094.00  1096.40  1030.00  1078.00\n",
      "89  31/03/2017  1080.00  1092.00  1057.00  1090.00\n",
      "\n",
      "No. of Rows and Columns of the data: \n",
      " (90, 5)\n"
     ]
    }
   ],
   "source": [
    "df = pd.read_csv(r'C:\\Users\\Admin\\Desktop\\ML Intern\\Naveen Kumar Tavva - bitcoin.csv')\n",
    "print(\"count of Null values fom data: \\n\",df.isnull().sum(axis = 0))\n",
    "print()\n",
    "print(\"Top 5 rows of the data: \\n\",df.head())\n",
    "print()\n",
    "print(\"Last 5 rows of the data: \\n\",df.tail())\n",
    "print()\n",
    "print(\"No. of Rows and Columns of the data: \\n\",df.shape)\n",
    "print()\n",
    "df = df.dropna(how='any',axis=0)\n",
    "print(\"After deleting the null values from the data \\n\")\n",
    "print(\"count of Null values fom data: \\n\",df.isnull().sum(axis = 0))\n",
    "print(\"Top 5 rows of the data: \\n\",df.head())\n",
    "print()\n",
    "print(\"Last 5 rows of the data: \\n\",df.tail())\n",
    "print()\n",
    "print(\"No. of Rows and Columns of the data: \\n\",df.shape)\n",
    "\n"
   ]
  },
  {
   "cell_type": "code",
   "execution_count": 45,
   "metadata": {},
   "outputs": [],
   "source": [
    "Gross = df['Open']-df['Close']"
   ]
  },
  {
   "cell_type": "code",
   "execution_count": 46,
   "metadata": {},
   "outputs": [],
   "source": [
    "df['Gross'] = df['Open']-df['Close']"
   ]
  },
  {
   "cell_type": "code",
   "execution_count": 47,
   "metadata": {},
   "outputs": [
    {
     "data": {
      "text/html": [
       "<div>\n",
       "<style scoped>\n",
       "    .dataframe tbody tr th:only-of-type {\n",
       "        vertical-align: middle;\n",
       "    }\n",
       "\n",
       "    .dataframe tbody tr th {\n",
       "        vertical-align: top;\n",
       "    }\n",
       "\n",
       "    .dataframe thead th {\n",
       "        text-align: right;\n",
       "    }\n",
       "</style>\n",
       "<table border=\"1\" class=\"dataframe\">\n",
       "  <thead>\n",
       "    <tr style=\"text-align: right;\">\n",
       "      <th></th>\n",
       "      <th>Date</th>\n",
       "      <th>Open</th>\n",
       "      <th>High</th>\n",
       "      <th>Low</th>\n",
       "      <th>Close</th>\n",
       "      <th>Gross</th>\n",
       "    </tr>\n",
       "  </thead>\n",
       "  <tbody>\n",
       "    <tr>\n",
       "      <td>0</td>\n",
       "      <td>01/01/2017</td>\n",
       "      <td>991.50</td>\n",
       "      <td>1000.0</td>\n",
       "      <td>969.01</td>\n",
       "      <td>969.01</td>\n",
       "      <td>22.49</td>\n",
       "    </tr>\n",
       "    <tr>\n",
       "      <td>1</td>\n",
       "      <td>02/01/2017</td>\n",
       "      <td>1014.00</td>\n",
       "      <td>1400.0</td>\n",
       "      <td>971.51</td>\n",
       "      <td>1060.00</td>\n",
       "      <td>-46.00</td>\n",
       "    </tr>\n",
       "    <tr>\n",
       "      <td>2</td>\n",
       "      <td>03/01/2017</td>\n",
       "      <td>1006.59</td>\n",
       "      <td>1069.5</td>\n",
       "      <td>1006.59</td>\n",
       "      <td>1069.49</td>\n",
       "      <td>-62.90</td>\n",
       "    </tr>\n",
       "    <tr>\n",
       "      <td>3</td>\n",
       "      <td>04/01/2017</td>\n",
       "      <td>1070.00</td>\n",
       "      <td>1240.0</td>\n",
       "      <td>1070.00</td>\n",
       "      <td>1210.00</td>\n",
       "      <td>-140.00</td>\n",
       "    </tr>\n",
       "    <tr>\n",
       "      <td>4</td>\n",
       "      <td>05/01/2017</td>\n",
       "      <td>1210.00</td>\n",
       "      <td>1212.0</td>\n",
       "      <td>955.08</td>\n",
       "      <td>1068.00</td>\n",
       "      <td>142.00</td>\n",
       "    </tr>\n",
       "  </tbody>\n",
       "</table>\n",
       "</div>"
      ],
      "text/plain": [
       "         Date     Open    High      Low    Close   Gross\n",
       "0  01/01/2017   991.50  1000.0   969.01   969.01   22.49\n",
       "1  02/01/2017  1014.00  1400.0   971.51  1060.00  -46.00\n",
       "2  03/01/2017  1006.59  1069.5  1006.59  1069.49  -62.90\n",
       "3  04/01/2017  1070.00  1240.0  1070.00  1210.00 -140.00\n",
       "4  05/01/2017  1210.00  1212.0   955.08  1068.00  142.00"
      ]
     },
     "execution_count": 47,
     "metadata": {},
     "output_type": "execute_result"
    }
   ],
   "source": [
    "df.head()"
   ]
  },
  {
   "cell_type": "code",
   "execution_count": 56,
   "metadata": {},
   "outputs": [],
   "source": [
    "df['Profit/Loss'] = np.where(df['Gross']>=0, 'PROFIT', 'LOSS')"
   ]
  },
  {
   "cell_type": "code",
   "execution_count": 72,
   "metadata": {},
   "outputs": [
    {
     "data": {
      "text/plain": [
       "'01/01/2017'"
      ]
     },
     "execution_count": 72,
     "metadata": {},
     "output_type": "execute_result"
    }
   ],
   "source": [
    "df.head()\n",
    "min(df['Date'])"
   ]
  },
  {
   "cell_type": "code",
   "execution_count": 73,
   "metadata": {},
   "outputs": [
    {
     "data": {
      "image/png": "[encoded data removed]",
      "text/plain": [
       "<Figure size 432x288 with 1 Axes>"
      ]
     },
     "metadata": {
      "needs_background": "light"
     },
     "output_type": "display_data"
    }
   ],
   "source": [
    "x = np.array(df['Date'])\n",
    "y = np.array(df['Gross'])\n",
    "plt.plot(x, y,'ro-')\n",
    "plt.xlabel('Date')\n",
    "plt.ylabel('profit/Loss')\n",
    "#plt.axis([x_min, x_max, y_min, y_max])\n",
    "plt.axis([min(df['Date']), max(df['Date']), min(df['Gross']), max(df['Gross'])])\n",
    "plt.title('Gross profit/Loss') \n",
    "plt.show()"
   ]
  },
  {
   "cell_type": "markdown",
   "metadata": {},
   "source": [
    "# Wine_Quality"
   ]
  },
  {
   "cell_type": "code",
   "execution_count": 1,
   "metadata": {},
   "outputs": [],
   "source": [
    "import numpy as np\n",
    "import pandas as pd\n",
    "import matplotlib.pyplot as plt"
   ]
  },
  {
   "cell_type": "code",
   "execution_count": 2,
   "metadata": {},
   "outputs": [
    {
     "name": "stdout",
     "output_type": "stream",
     "text": [
      "count of Null values fom data: \n",
      " fixed acidity           0\n",
      "volatile acidity        0\n",
      "citric acid             0\n",
      "residual sugar          0\n",
      "chlorides               0\n",
      "free sulfur dioxide     0\n",
      "total sulfur dioxide    0\n",
      "density                 0\n",
      "pH                      0\n",
      "sulphates               0\n",
      "alcohol                 0\n",
      "quality                 0\n",
      "dtype: int64\n",
      "\n",
      " Top 5 rows of the data: \n",
      "    fixed acidity  volatile acidity  citric acid  residual sugar  chlorides  \\\n",
      "0            7.4              0.70         0.00             1.9      0.076   \n",
      "1            7.8              0.88         0.00             2.6      0.098   \n",
      "2            7.8              0.76         0.04             2.3      0.092   \n",
      "3           11.2              0.28         0.56             1.9      0.075   \n",
      "4            7.4              0.70         0.00             1.9      0.076   \n",
      "\n",
      "   free sulfur dioxide  total sulfur dioxide  density    pH  sulphates  \\\n",
      "0                 11.0                  34.0   0.9978  3.51       0.56   \n",
      "1                 25.0                  67.0   0.9968  3.20       0.68   \n",
      "2                 15.0                  54.0   0.9970  3.26       0.65   \n",
      "3                 17.0                  60.0   0.9980  3.16       0.58   \n",
      "4                 11.0                  34.0   0.9978  3.51       0.56   \n",
      "\n",
      "   alcohol  quality  \n",
      "0      9.4        5  \n",
      "1      9.8        5  \n",
      "2      9.8        5  \n",
      "3      9.8        6  \n",
      "4      9.4        5  \n",
      "\n",
      " Last 5 rows of the data: \n",
      "       fixed acidity  volatile acidity  citric acid  residual sugar  chlorides  \\\n",
      "1594            6.2             0.600         0.08             2.0      0.090   \n",
      "1595            5.9             0.550         0.10             2.2      0.062   \n",
      "1596            6.3             0.510         0.13             2.3      0.076   \n",
      "1597            5.9             0.645         0.12             2.0      0.075   \n",
      "1598            6.0             0.310         0.47             3.6      0.067   \n",
      "\n",
      "      free sulfur dioxide  total sulfur dioxide  density    pH  sulphates  \\\n",
      "1594                 32.0                  44.0  0.99490  3.45       0.58   \n",
      "1595                 39.0                  51.0  0.99512  3.52       0.76   \n",
      "1596                 29.0                  40.0  0.99574  3.42       0.75   \n",
      "1597                 32.0                  44.0  0.99547  3.57       0.71   \n",
      "1598                 18.0                  42.0  0.99549  3.39       0.66   \n",
      "\n",
      "      alcohol  quality  \n",
      "1594     10.5        5  \n",
      "1595     11.2        6  \n",
      "1596     11.0        6  \n",
      "1597     10.2        5  \n",
      "1598     11.0        6  \n",
      "\n",
      " No. of Rows and Columns of the data: \n",
      " (1599, 12)\n"
     ]
    }
   ],
   "source": [
    "df = pd.read_csv(r'E:\\desk\\ML Intern\\Naveen Kumar Tavva - winequality.csv')\n",
    "print(\"count of Null values fom data: \\n\",df.isnull().sum(axis = 0))\n",
    "print(\"\\n Top 5 rows of the data: \\n\",df.head())\n",
    "print(\"\\n Last 5 rows of the data: \\n\",df.tail())\n",
    "print(\"\\n No. of Rows and Columns of the data: \\n\",df.shape)"
   ]
  },
  {
   "cell_type": "code",
   "execution_count": 3,
   "metadata": {},
   "outputs": [
    {
     "name": "stdout",
     "output_type": "stream",
     "text": [
      "[3 4 5 6 7 8]\n",
      "[ 10  53 681 638 199  18]\n",
      "1599\n"
     ]
    }
   ],
   "source": [
    "values = np.array(df['quality'])\n",
    "values.sort()\n",
    "a, count = np.unique(values, return_counts=True)\n",
    "print(a)\n",
    "print(count)\n",
    "print(sum(count))"
   ]
  },
  {
   "cell_type": "code",
   "execution_count": 4,
   "metadata": {},
   "outputs": [
    {
     "data": {
      "image/png": "[encoded data removed]",
      "text/plain": [
       "<Figure size 432x288 with 1 Axes>"
      ]
     },
     "metadata": {
      "needs_background": "light"
     },
     "output_type": "display_data"
    }
   ],
   "source": [
    "plt.bar(a,count,0.9)\n",
    "plt.xlabel('Quality of the WINE')\n",
    "plt.ylabel('Frequency of the Quality')\n",
    "plt.title('Quality of the Wine based on the Frequency')\n",
    "plt.show()"
   ]
  },
  {
   "cell_type": "code",
   "execution_count": null,
   "metadata": {},
   "outputs": [],
   "source": []
  }
 ],
 "metadata": {
  "kernelspec": {
   "display_name": "Python 3",
   "language": "python",
   "name": "python3"
  },
  "language_info": {
   "codemirror_mode": {
    "name": "ipython",
    "version": 3
   },
   "file_extension": ".py",
   "mimetype": "text/x-python",
   "name": "python",
   "nbconvert_exporter": "python",
   "pygments_lexer": "ipython3",
   "version": "3.7.4"
  }
 },
 "nbformat": 4,
 "nbformat_minor": 2
}
