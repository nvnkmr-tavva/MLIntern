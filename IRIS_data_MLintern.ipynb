{
  "nbformat": 4,
  "nbformat_minor": 0,
  "metadata": {
    "colab": {
      "name": "IRIS data-MLintern.ipynb",
      "provenance": [],
      "collapsed_sections": []
    },
    "kernelspec": {
      "name": "python3",
      "display_name": "Python 3"
    }
  },
  "cells": [
    {
      "cell_type": "code",
      "metadata": {
        "id": "GmZ-mLv-MuAz",
        "colab_type": "code",
        "outputId": "86f19fcf-52c1-4880-f1f7-52fd1e4a6bbf",
        "colab": {
          "base_uri": "https://localhost:8080/",
          "height": 129
        }
      },
      "source": [
        "import numpy as np\n",
        "import pandas as pd\n",
        "from google.colab import drive\n",
        "drive.mount('/content/gdrive')"
      ],
      "execution_count": 0,
      "outputs": [
        {
          "output_type": "stream",
          "text": [
            "Go to this URL in a browser: https://accounts.google.com/o/oauth2/auth?client_id=947318989803-6bn6qk8qdgf4n4g3pfee6491hc0brc4i.apps.googleusercontent.com&redirect_uri=urn%3aietf%3awg%3aoauth%3a2.0%3aoob&response_type=code&scope=email%20https%3a%2f%2fwww.googleapis.com%2fauth%2fdocs.test%20https%3a%2f%2fwww.googleapis.com%2fauth%2fdrive%20https%3a%2f%2fwww.googleapis.com%2fauth%2fdrive.photos.readonly%20https%3a%2f%2fwww.googleapis.com%2fauth%2fpeopleapi.readonly\n",
            "\n",
            "Enter your authorization code:\n",
            "··········\n",
            "Mounted at /content/gdrive\n"
          ],
          "name": "stdout"
        }
      ]
    },
    {
      "cell_type": "code",
      "metadata": {
        "id": "D5JxqGzpRued",
        "colab_type": "code",
        "colab": {}
      },
      "source": [
        "from sklearn.model_selection import train_test_split \n",
        "from sklearn.linear_model import LinearRegression\n",
        "from sklearn import metrics"
      ],
      "execution_count": 0,
      "outputs": []
    },
    {
      "cell_type": "code",
      "metadata": {
        "id": "Atd8xatsNbuV",
        "colab_type": "code",
        "colab": {}
      },
      "source": [
        "df = pd.read_csv('/content/gdrive/My Drive/data sets/coeff.csv')\n",
        "x = df['X']\n",
        "y = df['Y']"
      ],
      "execution_count": 0,
      "outputs": []
    },
    {
      "cell_type": "code",
      "metadata": {
        "id": "jJbNtd44Rzjo",
        "colab_type": "code",
        "colab": {}
      },
      "source": [
        "x = x.values.reshape(-1,1)\n",
        "y = y.values.reshape(-1,1)"
      ],
      "execution_count": 0,
      "outputs": []
    },
    {
      "cell_type": "code",
      "metadata": {
        "id": "ZeU5ISRpOGhp",
        "colab_type": "code",
        "outputId": "e4bbdce6-0ab8-42c0-d118-07d4c5ca754c",
        "colab": {
          "base_uri": "https://localhost:8080/",
          "height": 35
        }
      },
      "source": [
        "regressor = LinearRegression()  \n",
        "regressor.fit(x, y)"
      ],
      "execution_count": 0,
      "outputs": [
        {
          "output_type": "execute_result",
          "data": {
            "text/plain": [
              "LinearRegression(copy_X=True, fit_intercept=True, n_jobs=None, normalize=False)"
            ]
          },
          "metadata": {
            "tags": []
          },
          "execution_count": 48
        }
      ]
    },
    {
      "cell_type": "code",
      "metadata": {
        "id": "wY2ggsRoO6hw",
        "colab_type": "code",
        "outputId": "ccef5441-14bd-42fe-8f5f-3f5fe288982e",
        "colab": {
          "base_uri": "https://localhost:8080/",
          "height": 54
        }
      },
      "source": [
        "print(regressor.intercept_)\n",
        "print(regressor.coef_)"
      ],
      "execution_count": 0,
      "outputs": [
        {
          "output_type": "stream",
          "text": [
            "[-0.9039008]\n",
            "[[18.44150544]]\n"
          ],
          "name": "stdout"
        }
      ]
    },
    {
      "cell_type": "code",
      "metadata": {
        "id": "pQ5MVLtPSFbU",
        "colab_type": "code",
        "colab": {}
      },
      "source": [
        "from sklearn.preprocessing import StandardScaler\n",
        "sc_X = StandardScaler()\n",
        "X_stand = sc_X.fit_transform(x)"
      ],
      "execution_count": 0,
      "outputs": []
    },
    {
      "cell_type": "code",
      "metadata": {
        "id": "fmi4HvAnTtSt",
        "colab_type": "code",
        "outputId": "b74749c6-65c9-4dd5-ff85-1813c51983e7",
        "colab": {
          "base_uri": "https://localhost:8080/",
          "height": 54
        }
      },
      "source": [
        "regressor = LinearRegression()  \n",
        "regressor.fit(X_stand, y)\n",
        "print(regressor.intercept_)\n",
        "print(regressor.coef_)"
      ],
      "execution_count": 0,
      "outputs": [
        {
          "output_type": "stream",
          "text": [
            "[7.35902063]\n",
            "[[12.64913797]]\n"
          ],
          "name": "stdout"
        }
      ]
    },
    {
      "cell_type": "code",
      "metadata": {
        "id": "ieMiCxROT31a",
        "colab_type": "code",
        "outputId": "7024dc25-d0b8-4d49-9bc2-1be3933cab46",
        "colab": {
          "base_uri": "https://localhost:8080/",
          "height": 35
        }
      },
      "source": [
        "df1 = pd.read_csv('/content/gdrive/My Drive/data sets/entropy.csv')\n",
        "df1.head()\n",
        "df1.shape"
      ],
      "execution_count": 0,
      "outputs": [
        {
          "output_type": "execute_result",
          "data": {
            "text/plain": [
              "(10, 2)"
            ]
          },
          "metadata": {
            "tags": []
          },
          "execution_count": 74
        }
      ]
    },
    {
      "cell_type": "code",
      "metadata": {
        "id": "Y2PgpgYx6LLt",
        "colab_type": "code",
        "colab": {}
      },
      "source": [
        "from math import log2\n",
        "y = df1['y']\n",
        "yh = df1['y_h']"
      ],
      "execution_count": 0,
      "outputs": []
    },
    {
      "cell_type": "code",
      "metadata": {
        "id": "DIjKOy626k3H",
        "colab_type": "code",
        "outputId": "b66a6726-42ff-4cce-a38e-cbc5126bf407",
        "colab": {
          "base_uri": "https://localhost:8080/",
          "height": 35
        }
      },
      "source": [
        "# calculate log loss for classification problem with scikit-learn\n",
        "from sklearn.metrics import log_loss\n",
        "from numpy import asarray\n",
        "# define classification data\n",
        "# define data as expected, e.g. probability for each event {0, 1}\n",
        "y_true = asarray([[1-v, v] for v in y])\n",
        "y_pred = asarray([[1-v, v] for v in yh])\n",
        "# calculate the average log loss\n",
        "ll = log_loss(y_true, y_pred)\n",
        "print('Average Log Loss: %.3f' % ll)"
      ],
      "execution_count": 0,
      "outputs": [
        {
          "output_type": "stream",
          "text": [
            "Average Log Loss: 0.949\n"
          ],
          "name": "stdout"
        }
      ]
    },
    {
      "cell_type": "code",
      "metadata": {
        "id": "DAe3oA7N9V9x",
        "colab_type": "code",
        "colab": {}
      },
      "source": [
        "iris = pd.read_csv('/content/gdrive/My Drive/data sets/Iris.csv')"
      ],
      "execution_count": 0,
      "outputs": []
    },
    {
      "cell_type": "code",
      "metadata": {
        "id": "ZupKxP9DB6zP",
        "colab_type": "code",
        "outputId": "77ee1e63-125e-45d2-907f-f432e3ccf7a4",
        "colab": {
          "base_uri": "https://localhost:8080/",
          "height": 329
        }
      },
      "source": [
        "print(\"Means:\")\n",
        "print(\"Mean of SepalLength: \", np.mean(iris[\"SepalLengthCm\"]))\n",
        "print(\"Mean of SepalWidthCm: \", np.mean(iris[\"SepalWidthCm\"]))\n",
        "print(\"Mean of PetalLengthCm: \", np.mean(iris[\"PetalLengthCm\"]))\n",
        "print(\"Mean of PetalWidthCm: \", np.mean(iris[\"PetalWidthCm\"]))\n",
        "print(\"\\nStd-dev:\");\n",
        "print(\"Std-dev of SepalLength: \", np.std(iris[\"SepalLengthCm\"]))\n",
        "print(\"Std-dev of SepalWidthCm: \", np.std(iris[\"SepalWidthCm\"]))\n",
        "print(\"Std-dev of PetalLengthCm: \", np.std(iris[\"PetalLengthCm\"]))\n",
        "print(\"Std-dev of PetalWidthCm: \", np.std(iris[\"PetalWidthCm\"]))\n",
        "print(\"\\nvariance:\");\n",
        "print(\"Variance of SepalLength: \", np.var(iris[\"SepalLengthCm\"]))\n",
        "print(\"Variance of SepalWidthCm: \", np.var(iris[\"SepalWidthCm\"]))\n",
        "print(\"Variance of PetalLengthCm: \", np.var(iris[\"PetalLengthCm\"]))\n",
        "print(\"Variance of PetalWidthCm: \", np.var(iris[\"PetalWidthCm\"]))"
      ],
      "execution_count": 0,
      "outputs": [
        {
          "output_type": "stream",
          "text": [
            "Means:\n",
            "Mean of SepalLength:  5.843333333333335\n",
            "Mean of SepalWidthCm:  3.0540000000000007\n",
            "Mean of PetalLengthCm:  3.7586666666666693\n",
            "Mean of PetalWidthCm:  1.1986666666666672\n",
            "\n",
            "Std-dev:\n",
            "Std-dev of SepalLength:  0.8253012917851409\n",
            "Std-dev of SepalWidthCm:  0.4321465800705435\n",
            "Std-dev of PetalLengthCm:  1.7585291834055201\n",
            "Std-dev of PetalWidthCm:  0.760612618588172\n",
            "\n",
            "variance:\n",
            "Variance of SepalLength:  0.6811222222222222\n",
            "Variance of SepalWidthCm:  0.1867506666666667\n",
            "Variance of PetalLengthCm:  3.0924248888888854\n",
            "Variance of PetalWidthCm:  0.5785315555555559\n"
          ],
          "name": "stdout"
        }
      ]
    },
    {
      "cell_type": "code",
      "metadata": {
        "id": "grBuSfSHDBZg",
        "colab_type": "code",
        "colab": {}
      },
      "source": [
        ""
      ],
      "execution_count": 0,
      "outputs": []
    }
  ]
}