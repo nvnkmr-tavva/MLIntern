{
 "cells": [
  {
   "cell_type": "markdown",
   "metadata": {},
   "source": [
    "# Calculate Mean, Meadian"
   ]
  },
  {
   "cell_type": "code",
   "execution_count": 259,
   "metadata": {},
   "outputs": [],
   "source": [
    "import numpy as np\n",
    "import pandas as pd\n",
    "import csv"
   ]
  },
  {
   "cell_type": "code",
   "execution_count": 260,
   "metadata": {},
   "outputs": [],
   "source": [
    "dt = pd.read_csv(r'C:\\Users\\Admin\\Desktop\\ML Intern\\data.csv')"
   ]
  },
  {
   "cell_type": "code",
   "execution_count": 261,
   "metadata": {},
   "outputs": [
    {
     "data": {
      "text/plain": [
       "(60, 10)"
      ]
     },
     "execution_count": 261,
     "metadata": {},
     "output_type": "execute_result"
    }
   ],
   "source": [
    "dt.shape"
   ]
  },
  {
   "cell_type": "code",
   "execution_count": 262,
   "metadata": {},
   "outputs": [
    {
     "data": {
      "text/html": [
       "<div>\n",
       "<style scoped>\n",
       "    .dataframe tbody tr th:only-of-type {\n",
       "        vertical-align: middle;\n",
       "    }\n",
       "\n",
       "    .dataframe tbody tr th {\n",
       "        vertical-align: top;\n",
       "    }\n",
       "\n",
       "    .dataframe thead th {\n",
       "        text-align: right;\n",
       "    }\n",
       "</style>\n",
       "<table border=\"1\" class=\"dataframe\">\n",
       "  <thead>\n",
       "    <tr style=\"text-align: right;\">\n",
       "      <th></th>\n",
       "      <th>Date</th>\n",
       "      <th>Symbol</th>\n",
       "      <th>Series</th>\n",
       "      <th>Open Price</th>\n",
       "      <th>High Price</th>\n",
       "      <th>Low Price</th>\n",
       "      <th>Last Traded Price</th>\n",
       "      <th>Close Price</th>\n",
       "      <th>Total Traded Quantity</th>\n",
       "      <th>Turnover (in Lakhs)</th>\n",
       "    </tr>\n",
       "  </thead>\n",
       "  <tbody>\n",
       "    <tr>\n",
       "      <td>0</td>\n",
       "      <td>13-Apr-20</td>\n",
       "      <td>LT</td>\n",
       "      <td>EQ</td>\n",
       "      <td>812.80</td>\n",
       "      <td>872.40</td>\n",
       "      <td>807.95</td>\n",
       "      <td>864.4</td>\n",
       "      <td>865.45</td>\n",
       "      <td>9462929</td>\n",
       "      <td>80158.97</td>\n",
       "    </tr>\n",
       "    <tr>\n",
       "      <td>1</td>\n",
       "      <td>09-Apr-20</td>\n",
       "      <td>LT</td>\n",
       "      <td>EQ</td>\n",
       "      <td>834.35</td>\n",
       "      <td>834.35</td>\n",
       "      <td>804.40</td>\n",
       "      <td>805.0</td>\n",
       "      <td>812.80</td>\n",
       "      <td>6410629</td>\n",
       "      <td>52338.49</td>\n",
       "    </tr>\n",
       "    <tr>\n",
       "      <td>2</td>\n",
       "      <td>08-Apr-20</td>\n",
       "      <td>LT</td>\n",
       "      <td>EQ</td>\n",
       "      <td>804.00</td>\n",
       "      <td>832.00</td>\n",
       "      <td>797.70</td>\n",
       "      <td>808.0</td>\n",
       "      <td>807.10</td>\n",
       "      <td>6151093</td>\n",
       "      <td>50037.53</td>\n",
       "    </tr>\n",
       "    <tr>\n",
       "      <td>3</td>\n",
       "      <td>07-Apr-20</td>\n",
       "      <td>LT</td>\n",
       "      <td>EQ</td>\n",
       "      <td>805.00</td>\n",
       "      <td>813.00</td>\n",
       "      <td>791.00</td>\n",
       "      <td>802.2</td>\n",
       "      <td>801.65</td>\n",
       "      <td>5769216</td>\n",
       "      <td>46404.57</td>\n",
       "    </tr>\n",
       "    <tr>\n",
       "      <td>4</td>\n",
       "      <td>03-Apr-20</td>\n",
       "      <td>LT</td>\n",
       "      <td>EQ</td>\n",
       "      <td>791.10</td>\n",
       "      <td>791.10</td>\n",
       "      <td>762.80</td>\n",
       "      <td>783.0</td>\n",
       "      <td>774.65</td>\n",
       "      <td>4268501</td>\n",
       "      <td>33009.75</td>\n",
       "    </tr>\n",
       "  </tbody>\n",
       "</table>\n",
       "</div>"
      ],
      "text/plain": [
       "        Date  Symbol  Series   Open Price   High Price   Low Price  \\\n",
       "0  13-Apr-20      LT      EQ       812.80       872.40      807.95   \n",
       "1  09-Apr-20      LT      EQ       834.35       834.35      804.40   \n",
       "2  08-Apr-20      LT      EQ       804.00       832.00      797.70   \n",
       "3  07-Apr-20      LT      EQ       805.00       813.00      791.00   \n",
       "4  03-Apr-20      LT      EQ       791.10       791.10      762.80   \n",
       "\n",
       "    Last Traded Price    Close Price   Total Traded Quantity  \\\n",
       "0                864.4        865.45                 9462929   \n",
       "1                805.0        812.80                 6410629   \n",
       "2                808.0        807.10                 6151093   \n",
       "3                802.2        801.65                 5769216   \n",
       "4                783.0        774.65                 4268501   \n",
       "\n",
       "    Turnover (in Lakhs)  \n",
       "0              80158.97  \n",
       "1              52338.49  \n",
       "2              50037.53  \n",
       "3              46404.57  \n",
       "4              33009.75  "
      ]
     },
     "execution_count": 262,
     "metadata": {},
     "output_type": "execute_result"
    }
   ],
   "source": [
    "dt.head()"
   ]
  },
  {
   "cell_type": "code",
   "execution_count": 263,
   "metadata": {},
   "outputs": [
    {
     "data": {
      "text/html": [
       "<div>\n",
       "<style scoped>\n",
       "    .dataframe tbody tr th:only-of-type {\n",
       "        vertical-align: middle;\n",
       "    }\n",
       "\n",
       "    .dataframe tbody tr th {\n",
       "        vertical-align: top;\n",
       "    }\n",
       "\n",
       "    .dataframe thead th {\n",
       "        text-align: right;\n",
       "    }\n",
       "</style>\n",
       "<table border=\"1\" class=\"dataframe\">\n",
       "  <thead>\n",
       "    <tr style=\"text-align: right;\">\n",
       "      <th></th>\n",
       "      <th>Date</th>\n",
       "      <th>Symbol</th>\n",
       "      <th>Series</th>\n",
       "      <th>Open Price</th>\n",
       "      <th>High Price</th>\n",
       "      <th>Low Price</th>\n",
       "      <th>Last Traded Price</th>\n",
       "      <th>Close Price</th>\n",
       "      <th>Total Traded Quantity</th>\n",
       "      <th>Turnover (in Lakhs)</th>\n",
       "    </tr>\n",
       "  </thead>\n",
       "  <tbody>\n",
       "    <tr>\n",
       "      <td>55</td>\n",
       "      <td>21-Jan-20</td>\n",
       "      <td>LT</td>\n",
       "      <td>EQ</td>\n",
       "      <td>1304.75</td>\n",
       "      <td>1313.90</td>\n",
       "      <td>1300.45</td>\n",
       "      <td>1302.1</td>\n",
       "      <td>1302.35</td>\n",
       "      <td>1361576</td>\n",
       "      <td>17786.66</td>\n",
       "    </tr>\n",
       "    <tr>\n",
       "      <td>56</td>\n",
       "      <td>20-Jan-20</td>\n",
       "      <td>LT</td>\n",
       "      <td>EQ</td>\n",
       "      <td>1313.95</td>\n",
       "      <td>1319.90</td>\n",
       "      <td>1306.50</td>\n",
       "      <td>1311.1</td>\n",
       "      <td>1309.60</td>\n",
       "      <td>2542477</td>\n",
       "      <td>33381.94</td>\n",
       "    </tr>\n",
       "    <tr>\n",
       "      <td>57</td>\n",
       "      <td>17-Jan-20</td>\n",
       "      <td>LT</td>\n",
       "      <td>EQ</td>\n",
       "      <td>1320.60</td>\n",
       "      <td>1325.95</td>\n",
       "      <td>1302.00</td>\n",
       "      <td>1304.0</td>\n",
       "      <td>1304.20</td>\n",
       "      <td>2941837</td>\n",
       "      <td>38585.23</td>\n",
       "    </tr>\n",
       "    <tr>\n",
       "      <td>58</td>\n",
       "      <td>16-Jan-20</td>\n",
       "      <td>LT</td>\n",
       "      <td>EQ</td>\n",
       "      <td>1327.70</td>\n",
       "      <td>1332.90</td>\n",
       "      <td>1317.40</td>\n",
       "      <td>1319.0</td>\n",
       "      <td>1319.30</td>\n",
       "      <td>1773135</td>\n",
       "      <td>23482.50</td>\n",
       "    </tr>\n",
       "    <tr>\n",
       "      <td>59</td>\n",
       "      <td>15-Jan-20</td>\n",
       "      <td>LT</td>\n",
       "      <td>EQ</td>\n",
       "      <td>1325.60</td>\n",
       "      <td>1336.15</td>\n",
       "      <td>1320.00</td>\n",
       "      <td>1323.5</td>\n",
       "      <td>1323.60</td>\n",
       "      <td>2127677</td>\n",
       "      <td>28229.96</td>\n",
       "    </tr>\n",
       "  </tbody>\n",
       "</table>\n",
       "</div>"
      ],
      "text/plain": [
       "         Date  Symbol  Series   Open Price   High Price   Low Price  \\\n",
       "55  21-Jan-20      LT      EQ      1304.75      1313.90     1300.45   \n",
       "56  20-Jan-20      LT      EQ      1313.95      1319.90     1306.50   \n",
       "57  17-Jan-20      LT      EQ      1320.60      1325.95     1302.00   \n",
       "58  16-Jan-20      LT      EQ      1327.70      1332.90     1317.40   \n",
       "59  15-Jan-20      LT      EQ      1325.60      1336.15     1320.00   \n",
       "\n",
       "     Last Traded Price    Close Price   Total Traded Quantity  \\\n",
       "55               1302.1       1302.35                 1361576   \n",
       "56               1311.1       1309.60                 2542477   \n",
       "57               1304.0       1304.20                 2941837   \n",
       "58               1319.0       1319.30                 1773135   \n",
       "59               1323.5       1323.60                 2127677   \n",
       "\n",
       "     Turnover (in Lakhs)  \n",
       "55              17786.66  \n",
       "56              33381.94  \n",
       "57              38585.23  \n",
       "58              23482.50  \n",
       "59              28229.96  "
      ]
     },
     "execution_count": 263,
     "metadata": {},
     "output_type": "execute_result"
    }
   ],
   "source": [
    "dt.tail()"
   ]
  },
  {
   "cell_type": "code",
   "execution_count": 264,
   "metadata": {},
   "outputs": [
    {
     "data": {
      "text/plain": [
       "Index(['Date', ' Symbol', ' Series', ' Open Price', ' High Price',\n",
       "       ' Low Price', ' Last Traded Price ', ' Close Price',\n",
       "       ' Total Traded Quantity', ' Turnover (in Lakhs)'],\n",
       "      dtype='object')"
      ]
     },
     "execution_count": 264,
     "metadata": {},
     "output_type": "execute_result"
    }
   ],
   "source": [
    "dt.columns"
   ]
  },
  {
   "cell_type": "code",
   "execution_count": 265,
   "metadata": {},
   "outputs": [],
   "source": [
    "dt = dt.rename(columns={' Open Price': 'Open Price'})\n",
    "dt = dt.rename(columns={' Low Price': 'Low Price'})\n",
    "dt = dt.rename(columns={' High Price': 'High Price'})\n",
    "dt = dt.rename(columns={' Last Traded Price ': 'Last Traded Price'})\n"
   ]
  },
  {
   "cell_type": "code",
   "execution_count": 266,
   "metadata": {},
   "outputs": [
    {
     "data": {
      "text/plain": [
       "Index(['Date', ' Symbol', ' Series', 'Open Price', 'High Price', 'Low Price',\n",
       "       'Last Traded Price', ' Close Price', ' Total Traded Quantity',\n",
       "       ' Turnover (in Lakhs)'],\n",
       "      dtype='object')"
      ]
     },
     "execution_count": 266,
     "metadata": {},
     "output_type": "execute_result"
    }
   ],
   "source": [
    "dt.columns"
   ]
  },
  {
   "cell_type": "code",
   "execution_count": 267,
   "metadata": {},
   "outputs": [],
   "source": [
    "dt1 = dt[['Open Price', 'High Price', 'Low Price', 'Last Traded Price']]"
   ]
  },
  {
   "cell_type": "code",
   "execution_count": 268,
   "metadata": {},
   "outputs": [
    {
     "data": {
      "text/html": [
       "<div>\n",
       "<style scoped>\n",
       "    .dataframe tbody tr th:only-of-type {\n",
       "        vertical-align: middle;\n",
       "    }\n",
       "\n",
       "    .dataframe tbody tr th {\n",
       "        vertical-align: top;\n",
       "    }\n",
       "\n",
       "    .dataframe thead th {\n",
       "        text-align: right;\n",
       "    }\n",
       "</style>\n",
       "<table border=\"1\" class=\"dataframe\">\n",
       "  <thead>\n",
       "    <tr style=\"text-align: right;\">\n",
       "      <th></th>\n",
       "      <th>Open Price</th>\n",
       "      <th>High Price</th>\n",
       "      <th>Low Price</th>\n",
       "      <th>Last Traded Price</th>\n",
       "    </tr>\n",
       "  </thead>\n",
       "  <tbody>\n",
       "    <tr>\n",
       "      <td>0</td>\n",
       "      <td>812.80</td>\n",
       "      <td>872.40</td>\n",
       "      <td>807.95</td>\n",
       "      <td>864.4</td>\n",
       "    </tr>\n",
       "    <tr>\n",
       "      <td>1</td>\n",
       "      <td>834.35</td>\n",
       "      <td>834.35</td>\n",
       "      <td>804.40</td>\n",
       "      <td>805.0</td>\n",
       "    </tr>\n",
       "    <tr>\n",
       "      <td>2</td>\n",
       "      <td>804.00</td>\n",
       "      <td>832.00</td>\n",
       "      <td>797.70</td>\n",
       "      <td>808.0</td>\n",
       "    </tr>\n",
       "    <tr>\n",
       "      <td>3</td>\n",
       "      <td>805.00</td>\n",
       "      <td>813.00</td>\n",
       "      <td>791.00</td>\n",
       "      <td>802.2</td>\n",
       "    </tr>\n",
       "    <tr>\n",
       "      <td>4</td>\n",
       "      <td>791.10</td>\n",
       "      <td>791.10</td>\n",
       "      <td>762.80</td>\n",
       "      <td>783.0</td>\n",
       "    </tr>\n",
       "  </tbody>\n",
       "</table>\n",
       "</div>"
      ],
      "text/plain": [
       "   Open Price  High Price  Low Price  Last Traded Price\n",
       "0      812.80      872.40     807.95              864.4\n",
       "1      834.35      834.35     804.40              805.0\n",
       "2      804.00      832.00     797.70              808.0\n",
       "3      805.00      813.00     791.00              802.2\n",
       "4      791.10      791.10     762.80              783.0"
      ]
     },
     "execution_count": 268,
     "metadata": {},
     "output_type": "execute_result"
    }
   ],
   "source": [
    "dt1.head()"
   ]
  },
  {
   "cell_type": "code",
   "execution_count": 269,
   "metadata": {},
   "outputs": [
    {
     "data": {
      "text/html": [
       "<div>\n",
       "<style scoped>\n",
       "    .dataframe tbody tr th:only-of-type {\n",
       "        vertical-align: middle;\n",
       "    }\n",
       "\n",
       "    .dataframe tbody tr th {\n",
       "        vertical-align: top;\n",
       "    }\n",
       "\n",
       "    .dataframe thead th {\n",
       "        text-align: right;\n",
       "    }\n",
       "</style>\n",
       "<table border=\"1\" class=\"dataframe\">\n",
       "  <thead>\n",
       "    <tr style=\"text-align: right;\">\n",
       "      <th></th>\n",
       "      <th>Open Price</th>\n",
       "      <th>High Price</th>\n",
       "      <th>Low Price</th>\n",
       "      <th>Last Traded Price</th>\n",
       "    </tr>\n",
       "  </thead>\n",
       "  <tbody>\n",
       "    <tr>\n",
       "      <td>count</td>\n",
       "      <td>60.000000</td>\n",
       "      <td>60.000000</td>\n",
       "      <td>60.000000</td>\n",
       "      <td>60.000000</td>\n",
       "    </tr>\n",
       "    <tr>\n",
       "      <td>mean</td>\n",
       "      <td>1137.042500</td>\n",
       "      <td>1151.705000</td>\n",
       "      <td>1112.200000</td>\n",
       "      <td>1130.450000</td>\n",
       "    </tr>\n",
       "    <tr>\n",
       "      <td>std</td>\n",
       "      <td>215.752596</td>\n",
       "      <td>209.785502</td>\n",
       "      <td>226.634884</td>\n",
       "      <td>216.459653</td>\n",
       "    </tr>\n",
       "    <tr>\n",
       "      <td>min</td>\n",
       "      <td>697.200000</td>\n",
       "      <td>755.750000</td>\n",
       "      <td>661.000000</td>\n",
       "      <td>710.000000</td>\n",
       "    </tr>\n",
       "    <tr>\n",
       "      <td>25%</td>\n",
       "      <td>930.975000</td>\n",
       "      <td>953.562500</td>\n",
       "      <td>876.925000</td>\n",
       "      <td>900.100000</td>\n",
       "    </tr>\n",
       "    <tr>\n",
       "      <td>50%</td>\n",
       "      <td>1248.600000</td>\n",
       "      <td>1251.825000</td>\n",
       "      <td>1223.075000</td>\n",
       "      <td>1228.375000</td>\n",
       "    </tr>\n",
       "    <tr>\n",
       "      <td>75%</td>\n",
       "      <td>1305.312500</td>\n",
       "      <td>1314.025000</td>\n",
       "      <td>1292.750000</td>\n",
       "      <td>1298.625000</td>\n",
       "    </tr>\n",
       "    <tr>\n",
       "      <td>max</td>\n",
       "      <td>1375.950000</td>\n",
       "      <td>1383.700000</td>\n",
       "      <td>1360.450000</td>\n",
       "      <td>1370.000000</td>\n",
       "    </tr>\n",
       "  </tbody>\n",
       "</table>\n",
       "</div>"
      ],
      "text/plain": [
       "        Open Price   High Price    Low Price  Last Traded Price\n",
       "count    60.000000    60.000000    60.000000          60.000000\n",
       "mean   1137.042500  1151.705000  1112.200000        1130.450000\n",
       "std     215.752596   209.785502   226.634884         216.459653\n",
       "min     697.200000   755.750000   661.000000         710.000000\n",
       "25%     930.975000   953.562500   876.925000         900.100000\n",
       "50%    1248.600000  1251.825000  1223.075000        1228.375000\n",
       "75%    1305.312500  1314.025000  1292.750000        1298.625000\n",
       "max    1375.950000  1383.700000  1360.450000        1370.000000"
      ]
     },
     "execution_count": 269,
     "metadata": {},
     "output_type": "execute_result"
    }
   ],
   "source": [
    "dt1.describe()"
   ]
  },
  {
   "cell_type": "code",
   "execution_count": 284,
   "metadata": {},
   "outputs": [
    {
     "name": "stdout",
     "output_type": "stream",
     "text": [
      "Open Price           1137.0425\n",
      "High Price           1151.7050\n",
      "Low Price            1112.2000\n",
      "Last Traded Price    1130.4500\n",
      "dtype: float64\n",
      "\n",
      "Open Price           1248.600\n",
      "High Price           1251.825\n",
      "Low Price            1223.075\n",
      "Last Traded Price    1228.375\n",
      "dtype: float64\n",
      "\n"
     ]
    }
   ],
   "source": [
    "Mean = dt1.mean()\n",
    "print(Mean)\n",
    "print()\n",
    "Median = dt1.median()\n",
    "print(Median)\n",
    "print()\n",
    "#Mode = dt1.mode()[0]\n",
    "#print(Mode)\n",
    "\n",
    "\n",
    "#dt1.mode(axis='columns', numeric_only=True, dropna=True)"
   ]
  },
  {
   "cell_type": "code",
   "execution_count": 285,
   "metadata": {},
   "outputs": [],
   "source": [
    "data = {'Mean':Mean, 'Median':Median} "
   ]
  },
  {
   "cell_type": "code",
   "execution_count": 286,
   "metadata": {},
   "outputs": [],
   "source": [
    "df = pd.DataFrame(data, index =['Open Price', 'High Price', 'Low Price', 'Last Traded Price'])"
   ]
  },
  {
   "cell_type": "code",
   "execution_count": 287,
   "metadata": {},
   "outputs": [],
   "source": [
    "df.to_csv (r'C:\\Users\\Admin\\Desktop\\ML Intern\\data_ans.csv', index = True, header=True)"
   ]
  },
  {
   "cell_type": "code",
   "execution_count": 288,
   "metadata": {},
   "outputs": [
    {
     "data": {
      "text/html": [
       "<div>\n",
       "<style scoped>\n",
       "    .dataframe tbody tr th:only-of-type {\n",
       "        vertical-align: middle;\n",
       "    }\n",
       "\n",
       "    .dataframe tbody tr th {\n",
       "        vertical-align: top;\n",
       "    }\n",
       "\n",
       "    .dataframe thead th {\n",
       "        text-align: right;\n",
       "    }\n",
       "</style>\n",
       "<table border=\"1\" class=\"dataframe\">\n",
       "  <thead>\n",
       "    <tr style=\"text-align: right;\">\n",
       "      <th></th>\n",
       "      <th>Mean</th>\n",
       "      <th>Median</th>\n",
       "    </tr>\n",
       "  </thead>\n",
       "  <tbody>\n",
       "    <tr>\n",
       "      <td>Open Price</td>\n",
       "      <td>1137.0425</td>\n",
       "      <td>1248.600</td>\n",
       "    </tr>\n",
       "    <tr>\n",
       "      <td>High Price</td>\n",
       "      <td>1151.7050</td>\n",
       "      <td>1251.825</td>\n",
       "    </tr>\n",
       "    <tr>\n",
       "      <td>Low Price</td>\n",
       "      <td>1112.2000</td>\n",
       "      <td>1223.075</td>\n",
       "    </tr>\n",
       "    <tr>\n",
       "      <td>Last Traded Price</td>\n",
       "      <td>1130.4500</td>\n",
       "      <td>1228.375</td>\n",
       "    </tr>\n",
       "  </tbody>\n",
       "</table>\n",
       "</div>"
      ],
      "text/plain": [
       "                        Mean    Median\n",
       "Open Price         1137.0425  1248.600\n",
       "High Price         1151.7050  1251.825\n",
       "Low Price          1112.2000  1223.075\n",
       "Last Traded Price  1130.4500  1228.375"
      ]
     },
     "execution_count": 288,
     "metadata": {},
     "output_type": "execute_result"
    }
   ],
   "source": [
    "df"
   ]
  },
  {
   "cell_type": "code",
   "execution_count": null,
   "metadata": {},
   "outputs": [],
   "source": []
  }
 ],
 "metadata": {
  "kernelspec": {
   "display_name": "Python 3",
   "language": "python",
   "name": "python3"
  },
  "language_info": {
   "codemirror_mode": {
    "name": "ipython",
    "version": 3
   },
   "file_extension": ".py",
   "mimetype": "text/x-python",
   "name": "python",
   "nbconvert_exporter": "python",
   "pygments_lexer": "ipython3",
   "version": "3.7.4"
  }
 },
 "nbformat": 4,
 "nbformat_minor": 2
}
